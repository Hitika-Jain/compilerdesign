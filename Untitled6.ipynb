{
  "nbformat": 4,
  "nbformat_minor": 0,
  "metadata": {
    "colab": {
      "provenance": [],
      "authorship_tag": "ABX9TyNRwp03DK3Zw8wZwzt+mHka",
      "include_colab_link": true
    },
    "kernelspec": {
      "name": "python3",
      "display_name": "Python 3"
    },
    "language_info": {
      "name": "python"
    }
  },
  "cells": [
    {
      "cell_type": "markdown",
      "metadata": {
        "id": "view-in-github",
        "colab_type": "text"
      },
      "source": [
        "<a href=\"https://colab.research.google.com/github/Hitika-Jain/compilerdesign/blob/main/Untitled6.ipynb\" target=\"_parent\"><img src=\"https://colab.research.google.com/assets/colab-badge.svg\" alt=\"Open In Colab\"/></a>"
      ]
    },
    {
      "cell_type": "markdown",
      "source": [
        "Experiment-1"
      ],
      "metadata": {
        "id": "88NzmeAkdLJQ"
      }
    },
    {
      "cell_type": "code",
      "execution_count": null,
      "metadata": {
        "colab": {
          "base_uri": "https://localhost:8080/"
        },
        "id": "6NeTdkanbYwg",
        "outputId": "dfb0c8a5-1148-41d6-af36-a541bc1a1449"
      },
      "outputs": [
        {
          "output_type": "stream",
          "name": "stdout",
          "text": [
            "Reading package lists... Done\n",
            "Building dependency tree... Done\n",
            "Reading state information... Done\n",
            "The following additional packages will be installed:\n",
            "  libfl-dev libfl2\n",
            "Suggested packages:\n",
            "  bison-doc flex-doc\n",
            "The following NEW packages will be installed:\n",
            "  bison flex libfl-dev libfl2\n",
            "0 upgraded, 4 newly installed, 0 to remove and 49 not upgraded.\n",
            "Need to get 1,072 kB of archives.\n",
            "After this operation, 3,667 kB of additional disk space will be used.\n",
            "Get:1 http://archive.ubuntu.com/ubuntu jammy/main amd64 flex amd64 2.6.4-8build2 [307 kB]\n",
            "Get:2 http://archive.ubuntu.com/ubuntu jammy/main amd64 bison amd64 2:3.8.2+dfsg-1build1 [748 kB]\n",
            "Get:3 http://archive.ubuntu.com/ubuntu jammy/main amd64 libfl2 amd64 2.6.4-8build2 [10.7 kB]\n",
            "Get:4 http://archive.ubuntu.com/ubuntu jammy/main amd64 libfl-dev amd64 2.6.4-8build2 [6,236 B]\n",
            "Fetched 1,072 kB in 1s (850 kB/s)\n",
            "debconf: unable to initialize frontend: Dialog\n",
            "debconf: (No usable dialog-like program is installed, so the dialog based frontend cannot be used. at /usr/share/perl5/Debconf/FrontEnd/Dialog.pm line 78, <> line 4.)\n",
            "debconf: falling back to frontend: Readline\n",
            "debconf: unable to initialize frontend: Readline\n",
            "debconf: (This frontend requires a controlling tty.)\n",
            "debconf: falling back to frontend: Teletype\n",
            "dpkg-preconfigure: unable to re-open stdin: \n",
            "Selecting previously unselected package flex.\n",
            "(Reading database ... 124565 files and directories currently installed.)\n",
            "Preparing to unpack .../flex_2.6.4-8build2_amd64.deb ...\n",
            "Unpacking flex (2.6.4-8build2) ...\n",
            "Selecting previously unselected package bison.\n",
            "Preparing to unpack .../bison_2%3a3.8.2+dfsg-1build1_amd64.deb ...\n",
            "Unpacking bison (2:3.8.2+dfsg-1build1) ...\n",
            "Selecting previously unselected package libfl2:amd64.\n",
            "Preparing to unpack .../libfl2_2.6.4-8build2_amd64.deb ...\n",
            "Unpacking libfl2:amd64 (2.6.4-8build2) ...\n",
            "Selecting previously unselected package libfl-dev:amd64.\n",
            "Preparing to unpack .../libfl-dev_2.6.4-8build2_amd64.deb ...\n",
            "Unpacking libfl-dev:amd64 (2.6.4-8build2) ...\n",
            "Setting up flex (2.6.4-8build2) ...\n",
            "Setting up libfl2:amd64 (2.6.4-8build2) ...\n",
            "Setting up bison (2:3.8.2+dfsg-1build1) ...\n",
            "update-alternatives: using /usr/bin/bison.yacc to provide /usr/bin/yacc (yacc) in auto mode\n",
            "Setting up libfl-dev:amd64 (2.6.4-8build2) ...\n",
            "Processing triggers for man-db (2.10.2-1) ...\n",
            "Processing triggers for libc-bin (2.35-0ubuntu3.4) ...\n",
            "/sbin/ldconfig.real: /usr/local/lib/libtcm.so.1 is not a symbolic link\n",
            "\n",
            "/sbin/ldconfig.real: /usr/local/lib/libur_adapter_opencl.so.0 is not a symbolic link\n",
            "\n",
            "/sbin/ldconfig.real: /usr/local/lib/libtbbmalloc_proxy.so.2 is not a symbolic link\n",
            "\n",
            "/sbin/ldconfig.real: /usr/local/lib/libtbbmalloc.so.2 is not a symbolic link\n",
            "\n",
            "/sbin/ldconfig.real: /usr/local/lib/libur_loader.so.0 is not a symbolic link\n",
            "\n",
            "/sbin/ldconfig.real: /usr/local/lib/libtbbbind.so.3 is not a symbolic link\n",
            "\n",
            "/sbin/ldconfig.real: /usr/local/lib/libur_adapter_level_zero.so.0 is not a symbolic link\n",
            "\n",
            "/sbin/ldconfig.real: /usr/local/lib/libtbb.so.12 is not a symbolic link\n",
            "\n",
            "/sbin/ldconfig.real: /usr/local/lib/libtbbbind_2_0.so.3 is not a symbolic link\n",
            "\n",
            "/sbin/ldconfig.real: /usr/local/lib/libtcm_debug.so.1 is not a symbolic link\n",
            "\n",
            "/sbin/ldconfig.real: /usr/local/lib/libumf.so.0 is not a symbolic link\n",
            "\n",
            "/sbin/ldconfig.real: /usr/local/lib/libhwloc.so.15 is not a symbolic link\n",
            "\n",
            "/sbin/ldconfig.real: /usr/local/lib/libtbbbind_2_5.so.3 is not a symbolic link\n",
            "\n"
          ]
        }
      ],
      "source": [
        "!sudo apt install flex bison"
      ]
    },
    {
      "cell_type": "markdown",
      "source": [
        "Experiment-2"
      ],
      "metadata": {
        "id": "frKXboOHczE1"
      }
    },
    {
      "cell_type": "code",
      "source": [
        "%%writefile hello.l\n",
        "%{\n",
        "  #include<stdio.h>\n",
        "%}\n",
        "%%\n",
        "%%\n",
        "int main(){\n",
        "  printf(\"Hello, World!\\n\");\n",
        "  return 0;\n",
        "}"
      ],
      "metadata": {
        "colab": {
          "base_uri": "https://localhost:8080/"
        },
        "id": "eipvdP0pbooB",
        "outputId": "ae8f3dba-1114-4eab-9514-66e698638768"
      },
      "execution_count": null,
      "outputs": [
        {
          "output_type": "stream",
          "name": "stdout",
          "text": [
            "Writing hello.l\n"
          ]
        }
      ]
    },
    {
      "cell_type": "code",
      "source": [
        "!flex hello.l"
      ],
      "metadata": {
        "id": "FZAOPl_Yc3BO"
      },
      "execution_count": null,
      "outputs": []
    },
    {
      "cell_type": "code",
      "source": [
        "!gcc lex.yy.c -o hello -lfl"
      ],
      "metadata": {
        "id": "0evIVANcc3Ke"
      },
      "execution_count": null,
      "outputs": []
    },
    {
      "cell_type": "markdown",
      "source": [
        "lfl=link flex library"
      ],
      "metadata": {
        "id": "hl4-80M1dlNb"
      }
    },
    {
      "cell_type": "code",
      "source": [
        "!./hello"
      ],
      "metadata": {
        "colab": {
          "base_uri": "https://localhost:8080/"
        },
        "id": "ruBSeLVcc3Np",
        "outputId": "93e68e48-4138-44a1-db96-364a87702021"
      },
      "execution_count": null,
      "outputs": [
        {
          "output_type": "stream",
          "name": "stdout",
          "text": [
            "Hello, World!\n"
          ]
        }
      ]
    },
    {
      "cell_type": "code",
      "source": [
        "%%writefile countch.l\n",
        "%{\n",
        "  #include<stdio.h>\n",
        "  int chara=0;\n",
        "  int spaces=0;\n",
        "  int newline=0;\n",
        "%}\n",
        "%%\n",
        "[ ] {spaces++;}\n",
        "[\\n] {newline++;}\n",
        ". {chara++;}\n",
        "%%\n",
        "int main(int argc, char *argv[]){\n",
        "  char input[100];\n",
        "  FILE *file = fopen(argv[1], \"r\");\n",
        "  while (fgets(input, sizeof(input), file)) {\n",
        "    yy_scan_string(input);\n",
        "    yylex();\n",
        "  }\n",
        "  fclose(file);\n",
        "  printf(\"char=%d, spaces=%d, newlines=%d\",chara,spaces,newline);\n",
        "  return 0;\n",
        "}"
      ],
      "metadata": {
        "colab": {
          "base_uri": "https://localhost:8080/"
        },
        "id": "mbtY0mOViG1J",
        "outputId": "8f92dda6-c9f7-40f0-dd20-a18aed5ff113"
      },
      "execution_count": null,
      "outputs": [
        {
          "output_type": "stream",
          "name": "stdout",
          "text": [
            "Overwriting countch.l\n"
          ]
        }
      ]
    },
    {
      "cell_type": "code",
      "source": [
        "!flex countch.l"
      ],
      "metadata": {
        "id": "ZPRQh3WRiG-p"
      },
      "execution_count": null,
      "outputs": []
    },
    {
      "cell_type": "code",
      "source": [
        "!gcc lex.yy.c -o countch -lfl"
      ],
      "metadata": {
        "id": "CK_GnM7OiHBJ"
      },
      "execution_count": null,
      "outputs": []
    },
    {
      "cell_type": "code",
      "source": [
        "!./countch compilerlab1.txt"
      ],
      "metadata": {
        "colab": {
          "base_uri": "https://localhost:8080/"
        },
        "id": "8vGyOkyAiHEJ",
        "outputId": "d2aa171e-71f7-4106-8876-45c0033549f1"
      },
      "execution_count": null,
      "outputs": [
        {
          "output_type": "stream",
          "name": "stdout",
          "text": [
            "char=35, spaces=8, newlines=2"
          ]
        }
      ]
    },
    {
      "cell_type": "code",
      "source": [
        "%%writefile countcomments.l\n",
        "%{\n",
        "  #include<stdio.h>\n",
        "  int count=0;\n",
        "%}\n",
        "%%\n",
        "\\/\\/[^\\n]* {count++;}\n",
        "\\/\\*([^*]|\\*+[^/])*\\*+\\/ {count++;}\n",
        ".\n",
        "%%\n",
        "int main(int argc, char *argv[]){\n",
        "  char input[1000];\n",
        "  FILE *file = fopen(argv[1], \"r\");\n",
        "  while (fgets(input, sizeof(input), file)) {\n",
        "    yy_scan_string(input);\n",
        "    yylex();\n",
        "  }\n",
        "  printf(\"count=%d\",count);\n",
        "  fclose(file);\n",
        "  return 0;\n",
        "}"
      ],
      "metadata": {
        "colab": {
          "base_uri": "https://localhost:8080/"
        },
        "id": "7DdM6bitiHHd",
        "outputId": "a1765db7-5301-433b-f876-cad5c3bd141b"
      },
      "execution_count": null,
      "outputs": [
        {
          "output_type": "stream",
          "name": "stdout",
          "text": [
            "Overwriting countcomments.l\n"
          ]
        }
      ]
    },
    {
      "cell_type": "code",
      "source": [
        "!flex countcomments.l"
      ],
      "metadata": {
        "id": "_efT4kS_qpiK"
      },
      "execution_count": null,
      "outputs": []
    },
    {
      "cell_type": "code",
      "source": [
        "!gcc lex.yy.c -o countcomments -lfl"
      ],
      "metadata": {
        "id": "Kc-808TSrBmz"
      },
      "execution_count": null,
      "outputs": []
    },
    {
      "cell_type": "code",
      "source": [
        "!./countcomments compilerlab1.c"
      ],
      "metadata": {
        "colab": {
          "base_uri": "https://localhost:8080/"
        },
        "id": "5KPWlbYmrBxN",
        "outputId": "b5bcd2d9-9afe-4f1e-bab4-eb5606ebde09"
      },
      "execution_count": null,
      "outputs": [
        {
          "output_type": "stream",
          "name": "stdout",
          "text": [
            "\n",
            "\n",
            "\n",
            "\n",
            "\n",
            "\n",
            "\n",
            "count=4"
          ]
        }
      ]
    },
    {
      "cell_type": "markdown",
      "source": [
        "Experiment-3\n",
        "\n",
        "---\n",
        "\n",
        "\n",
        "Title: Lexical Analysis through Lex Tool\n",
        "List of Lab Activities:\n",
        "1. WAP to count number of ‘scanf’ and ‘printf’ statements in a C program. Replace them\n",
        "with ‘read’ and ‘write’ statements respectively.\n",
        "2. WAP to recognize and count the number of identifiers in a given input file.\n",
        "3. WAP to recognize a valid arithmetic expression and identify the identifiers and operators\n",
        "present. Print them separately.\n",
        "\n"
      ],
      "metadata": {
        "id": "edNNU8cAcd9d"
      }
    },
    {
      "cell_type": "code",
      "source": [
        "%%writefile countscanf.l\n",
        "%{\n",
        "  #include<stdio.h>\n",
        "  int countscanf=0;\n",
        "  int countprintf=0;\n",
        "%}\n",
        "%%\n",
        "\\\"(\\\\.|[^\"\\\\])*\\\"   { printf(\"%s\", yytext); }\n",
        "scanf {countscanf++; printf(\"read\");}\n",
        "printf {countprintf++; printf(\"write\");}\n",
        ".|\\n    { printf(\"%s\", yytext); }\n",
        "%%\n",
        "int main(int argc, char *argv[]){\n",
        "  if (argc < 2) {\n",
        "        printf(\"Usage: %s <filename>\\n\", argv[0]);\n",
        "        return 1;\n",
        "    }\n",
        "  char input[1000];\n",
        "  FILE *file = fopen(argv[1], \"r\");\n",
        "  if (!file) {\n",
        "        perror(\"Error opening file\");\n",
        "        return 1;\n",
        "    }\n",
        "  yyin=file;\n",
        "  yylex();\n",
        "  fclose(file);\n",
        "  printf(\"countscanf=%d\\n\",countscanf);\n",
        "  printf(\"countprintf=%d\",countprintf);\n",
        "  return 0;\n",
        "}"
      ],
      "metadata": {
        "colab": {
          "base_uri": "https://localhost:8080/"
        },
        "id": "D8i3gTU8cdki",
        "outputId": "9ace8705-17e1-4c6e-b3a0-cf257696bb3a"
      },
      "execution_count": null,
      "outputs": [
        {
          "output_type": "stream",
          "name": "stdout",
          "text": [
            "Overwriting countscanf.l\n"
          ]
        }
      ]
    },
    {
      "cell_type": "code",
      "source": [
        "!flex countscanf.l"
      ],
      "metadata": {
        "id": "RdLfEUVscdhJ"
      },
      "execution_count": null,
      "outputs": []
    },
    {
      "cell_type": "code",
      "source": [
        "!gcc lex.yy.c -o countscanf -lfl"
      ],
      "metadata": {
        "id": "lbuek766cddy"
      },
      "execution_count": null,
      "outputs": []
    },
    {
      "cell_type": "code",
      "source": [
        "!./countscanf compilerlab2.c"
      ],
      "metadata": {
        "colab": {
          "base_uri": "https://localhost:8080/"
        },
        "id": "XP0sdarQcda8",
        "outputId": "1dbdf9dd-f70f-4c32-bac8-66a7bf4b4b0c"
      },
      "execution_count": null,
      "outputs": [
        {
          "output_type": "stream",
          "name": "stdout",
          "text": [
            "#include <stdio.h>\r\n",
            "\r\n",
            "int main() {\r\n",
            "    int a, b;\r\n",
            "    write(\"printf: \");\r\n",
            "    read(\"%d %d\", &a, &b);\r\n",
            "    write(\"The sum is: %d\\n\", a + b);\r\n",
            "    return 0;\r\n",
            "}\r\n",
            "countscanf=1\n",
            "countprintf=2"
          ]
        }
      ]
    },
    {
      "cell_type": "code",
      "source": [
        "%%writefile countidentifier.l\n",
        "%{\n",
        "  #include<stdio.h>\n",
        "  int count=0;\n",
        "  const char *keywords[] = {\n",
        "    \"auto\", \"break\", \"case\", \"char\", \"const\", \"continue\", \"default\", \"do\",\n",
        "    \"double\", \"else\", \"enum\", \"extern\", \"float\", \"for\", \"goto\", \"if\",\n",
        "    \"int\", \"long\", \"register\", \"return\", \"short\", \"signed\", \"sizeof\",\n",
        "    \"static\", \"struct\", \"switch\", \"typedef\", \"union\", \"unsigned\", \"void\",\n",
        "    \"volatile\", \"while\", \"_Bool\", \"_Complex\", \"_Imaginary\", \"inline\"\n",
        "};\n",
        "int is_keyword(const char *str) {\n",
        "    for (int i = 0; i < sizeof(keywords) / sizeof(keywords[0]); i++) {\n",
        "        if (strcmp(str, keywords[i]) == 0) {\n",
        "            return 1; // It's a keyword\n",
        "        }\n",
        "    }\n",
        "    return 0; // Not a keyword\n",
        "}\n",
        "%}\n",
        "%%\n",
        "\\\"(\\\\.|[^\"\\\\])*\\\" {}\n",
        "#.*\n",
        "[a-zA-Z_][a-zA-Z0-9_]*   { if (!is_keyword(yytext)) { count++; printf(\"Identifier found: %s\\n\", yytext);}}\n",
        "[ \\t\\n]+\n",
        ".\n",
        "%%\n",
        "int main(int argc, char *argv[]){\n",
        "  if (argc < 2) {\n",
        "        printf(\"Usage: %s <filename>\\n\", argv[0]);\n",
        "        return 1;\n",
        "    }\n",
        "  char input[1000];\n",
        "  FILE *file = fopen(argv[1], \"r\");\n",
        "  if (!file) {\n",
        "        perror(\"Error opening file\");\n",
        "        return 1;\n",
        "    }\n",
        "  yyin=file;\n",
        "  yylex();\n",
        "  fclose(file);\n",
        "  printf(\"count of identifiers=%d\\n\",count);\n",
        "  return 0;\n",
        "}"
      ],
      "metadata": {
        "colab": {
          "base_uri": "https://localhost:8080/"
        },
        "id": "BtOX3AVhcdX2",
        "outputId": "5d06638f-5a05-4b66-955f-0d0205e44adb"
      },
      "execution_count": null,
      "outputs": [
        {
          "output_type": "stream",
          "name": "stdout",
          "text": [
            "Overwriting countidentifier.l\n"
          ]
        }
      ]
    },
    {
      "cell_type": "code",
      "source": [
        "!flex countidentifier.l"
      ],
      "metadata": {
        "id": "ueBZmJgacdU9"
      },
      "execution_count": null,
      "outputs": []
    },
    {
      "cell_type": "code",
      "source": [
        "!gcc lex.yy.c -o countidentifier -lfl"
      ],
      "metadata": {
        "id": "DwMoc7qYjsvC"
      },
      "execution_count": null,
      "outputs": []
    },
    {
      "cell_type": "code",
      "source": [
        "!./countidentifier compilerlab2.c"
      ],
      "metadata": {
        "colab": {
          "base_uri": "https://localhost:8080/"
        },
        "id": "2UaqIZ0djv3B",
        "outputId": "2ca26b9e-5a02-4369-8030-375062939f2c"
      },
      "execution_count": null,
      "outputs": [
        {
          "output_type": "stream",
          "name": "stdout",
          "text": [
            "Identifier found: main\n",
            "Identifier found: a\n",
            "Identifier found: b\n",
            "Identifier found: printf\n",
            "Identifier found: scanf\n",
            "Identifier found: a\n",
            "Identifier found: b\n",
            "Identifier found: printf\n",
            "Identifier found: a\n",
            "Identifier found: b\n",
            "count of identifiers=10\n"
          ]
        }
      ]
    },
    {
      "cell_type": "code",
      "source": [
        "%%writefile countarithmetic.l\n",
        "%{\n",
        "  #include<stdio.h>\n",
        "  #include<string.h>\n",
        "  int is_valid=1;\n",
        "  int countidentifiers=0;\n",
        "  int countoperators=0;\n",
        "  const char *keywords[] = {\n",
        "    \"auto\", \"break\", \"case\", \"char\", \"const\", \"continue\", \"default\", \"do\",\n",
        "    \"double\", \"else\", \"enum\", \"extern\", \"float\", \"for\", \"goto\", \"if\",\n",
        "    \"int\", \"long\", \"register\", \"return\", \"short\", \"signed\", \"sizeof\",\n",
        "    \"static\", \"struct\", \"switch\", \"typedef\", \"union\", \"unsigned\", \"void\",\n",
        "    \"volatile\", \"while\", \"_Bool\", \"_Complex\", \"_Imaginary\", \"inline\"\n",
        "};\n",
        "const char *operators[] = {\n",
        "    \"+\", \"-\", \"*\", \"/\", \"%\", \"=\", \"==\", \"!=\", \"<\", \">\", \"<=\", \">=\", \"&&\", \"||\", \"!\"\n",
        "};\n",
        "int is_keyword(const char *str) {\n",
        "    for (int i = 0; i < sizeof(keywords) / sizeof(keywords[0]); i++) {\n",
        "        if (strcmp(str, keywords[i]) == 0) {\n",
        "            return 1; // It's a keyword\n",
        "        }\n",
        "    }\n",
        "    return 0; // Not a keyword\n",
        "}\n",
        "%}\n",
        "%%\n",
        "\\\"(\\\\.|[^\"\\\\])*\\\" {}\n",
        "#.*\n",
        "[+\\-*/%]              { countoperators++; printf(\"Operator: %s\\n\", yytext); }\n",
        "[a-zA-Z_][a-zA-Z0-9_]*   { if (!is_keyword(yytext)) { countidentifiers++; printf(\"Identifier found: %s\\n\", yytext);}}\n",
        "\n",
        "[0-9]+\\.[0-9]+           { printf(\"Float: %s\\n\", yytext); }\n",
        "[0-9]+                   { printf(\"Integer: %s\\n\", yytext); }\n",
        "[\\(\\)]                   { printf(\"Parenthesis: %s\\n\", yytext); }\n",
        "[ \\t\\n]+ {}\n",
        "[\\n] {}\n",
        "[^a-zA-Z0-9_+\\-*/%()\\s]  {\n",
        "    is_valid = 0;\n",
        "    printf(\"Invalid character: %s\\n\", yytext);\n",
        "}\n",
        ". {}\n",
        "%%\n",
        "int main(){\n",
        "  char input[1024];\n",
        "  printf(\"Enter an arithmetic expression: \");\n",
        "  if (fgets(input, sizeof(input), stdin) == NULL) {\n",
        "        printf(\"Error reading input.\\n\");\n",
        "        return 1;\n",
        "    }\n",
        "    yy_scan_string(input);\n",
        "    yylex();\n",
        "\n",
        "    if (is_valid) {\n",
        "        printf(\"The input is a valid arithmetic expression.\\n\");\n",
        "    } else {\n",
        "        printf(\"The input contains invalid characters or syntax.\\n\");\n",
        "    }\n",
        "    printf(\"\\nSummary:\\n\");\n",
        "    printf(\"Identifiers: %d\\n\", countidentifiers);\n",
        "    printf(\"Operators: %d\\n\", countoperators);\n",
        "}"
      ],
      "metadata": {
        "colab": {
          "base_uri": "https://localhost:8080/"
        },
        "id": "gWw68L1ronOk",
        "outputId": "6401e6ae-3dbb-423f-9d7d-3ea7267555f3"
      },
      "execution_count": null,
      "outputs": [
        {
          "output_type": "stream",
          "name": "stdout",
          "text": [
            "Overwriting countarithmetic.l\n"
          ]
        }
      ]
    },
    {
      "cell_type": "code",
      "source": [
        "!flex countarithmetic.l"
      ],
      "metadata": {
        "colab": {
          "base_uri": "https://localhost:8080/"
        },
        "id": "bFiHScxOqtIh",
        "outputId": "659548e8-f6da-4f53-d4f2-aaf097c89737"
      },
      "execution_count": null,
      "outputs": [
        {
          "output_type": "stream",
          "name": "stdout",
          "text": [
            "countarithmetic.l:36: warning, rule cannot be matched\n",
            "countarithmetic.l:41: warning, rule cannot be matched\n"
          ]
        }
      ]
    },
    {
      "cell_type": "code",
      "source": [
        "!gcc lex.yy.c -o countarithmetic -lfl"
      ],
      "metadata": {
        "id": "xd8UuYQCqtFP"
      },
      "execution_count": null,
      "outputs": []
    },
    {
      "cell_type": "code",
      "source": [
        "!./countarithmetic"
      ],
      "metadata": {
        "colab": {
          "base_uri": "https://localhost:8080/"
        },
        "id": "1zpBehLIqtCq",
        "outputId": "8055780d-4b1b-418c-b87d-3e643945569f"
      },
      "execution_count": null,
      "outputs": [
        {
          "output_type": "stream",
          "name": "stdout",
          "text": [
            "Enter an arithmetic expression: a+b)-3.14\n",
            "Identifier found: a\n",
            "Operator: +\n",
            "Identifier found: b\n",
            "Parenthesis: )\n",
            "Operator: -\n",
            "Float: 3.14\n",
            "The input is a valid arithmetic expression.\n",
            "\n",
            "Summary:\n",
            "Identifiers: 2\n",
            "Operators: 2\n"
          ]
        }
      ]
    },
    {
      "cell_type": "code",
      "source": [],
      "metadata": {
        "id": "uha5hvUgqs_u"
      },
      "execution_count": null,
      "outputs": []
    }
  ]
}