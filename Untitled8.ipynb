{
  "nbformat": 4,
  "nbformat_minor": 0,
  "metadata": {
    "colab": {
      "provenance": [],
      "authorship_tag": "ABX9TyO+H3XAkX8xW8wKwJDaDgYT",
      "include_colab_link": true
    },
    "kernelspec": {
      "name": "python3",
      "display_name": "Python 3"
    },
    "language_info": {
      "name": "python"
    }
  },
  "cells": [
    {
      "cell_type": "markdown",
      "metadata": {
        "id": "view-in-github",
        "colab_type": "text"
      },
      "source": [
        "<a href=\"https://colab.research.google.com/github/Hitika-Jain/compilerdesign/blob/main/Untitled8.ipynb\" target=\"_parent\"><img src=\"https://colab.research.google.com/assets/colab-badge.svg\" alt=\"Open In Colab\"/></a>"
      ]
    },
    {
      "cell_type": "code",
      "execution_count": 1,
      "metadata": {
        "colab": {
          "base_uri": "https://localhost:8080/"
        },
        "id": "jxrRjucgrDHh",
        "outputId": "036172e3-fa10-4136-dad2-aa59e26e5cb1"
      },
      "outputs": [
        {
          "output_type": "stream",
          "name": "stdout",
          "text": [
            "\r0% [Working]\r            \rGet:1 https://cloud.r-project.org/bin/linux/ubuntu jammy-cran40/ InRelease [3,626 B]\n",
            "\r0% [Connecting to archive.ubuntu.com] [Waiting for headers] [1 InRelease 0 B/3,\r0% [Connecting to archive.ubuntu.com] [Waiting for headers] [Connecting to r2u.\r                                                                               \rGet:2 https://developer.download.nvidia.com/compute/cuda/repos/ubuntu2204/x86_64  InRelease [1,581 B]\n",
            "Get:3 http://security.ubuntu.com/ubuntu jammy-security InRelease [129 kB]\n",
            "Get:4 https://cloud.r-project.org/bin/linux/ubuntu jammy-cran40/ Packages [62.7 kB]\n",
            "Get:5 https://r2u.stat.illinois.edu/ubuntu jammy InRelease [6,555 B]\n",
            "Hit:6 http://archive.ubuntu.com/ubuntu jammy InRelease\n",
            "Get:7 https://developer.download.nvidia.com/compute/cuda/repos/ubuntu2204/x86_64  Packages [1,285 kB]\n",
            "Get:8 http://archive.ubuntu.com/ubuntu jammy-updates InRelease [128 kB]\n",
            "Get:9 https://r2u.stat.illinois.edu/ubuntu jammy/main amd64 Packages [2,646 kB]\n",
            "Hit:10 https://ppa.launchpadcontent.net/deadsnakes/ppa/ubuntu jammy InRelease\n",
            "Hit:11 https://ppa.launchpadcontent.net/graphics-drivers/ppa/ubuntu jammy InRelease\n",
            "Get:12 http://archive.ubuntu.com/ubuntu jammy-backports InRelease [127 kB]\n",
            "Hit:13 https://ppa.launchpadcontent.net/ubuntugis/ppa/ubuntu jammy InRelease\n",
            "Get:14 https://r2u.stat.illinois.edu/ubuntu jammy/main all Packages [8,623 kB]\n",
            "Get:15 http://archive.ubuntu.com/ubuntu jammy-updates/main amd64 Packages [2,861 kB]\n",
            "Get:16 http://archive.ubuntu.com/ubuntu jammy-updates/universe amd64 Packages [1,520 kB]\n",
            "Fetched 17.4 MB in 4s (3,933 kB/s)\n",
            "Reading package lists... Done\n",
            "W: Skipping acquire of configured file 'main/source/Sources' as repository 'https://r2u.stat.illinois.edu/ubuntu jammy InRelease' does not seem to provide it (sources.list entry misspelt?)\n",
            "Reading package lists... Done\n",
            "Building dependency tree... Done\n",
            "Reading state information... Done\n",
            "The following additional packages will be installed:\n",
            "  libfl-dev libfl2\n",
            "Suggested packages:\n",
            "  bison-doc flex-doc\n",
            "The following NEW packages will be installed:\n",
            "  bison flex libfl-dev libfl2\n",
            "0 upgraded, 4 newly installed, 0 to remove and 52 not upgraded.\n",
            "Need to get 1,072 kB of archives.\n",
            "After this operation, 3,667 kB of additional disk space will be used.\n",
            "Get:1 http://archive.ubuntu.com/ubuntu jammy/main amd64 flex amd64 2.6.4-8build2 [307 kB]\n",
            "Get:2 http://archive.ubuntu.com/ubuntu jammy/main amd64 bison amd64 2:3.8.2+dfsg-1build1 [748 kB]\n",
            "Get:3 http://archive.ubuntu.com/ubuntu jammy/main amd64 libfl2 amd64 2.6.4-8build2 [10.7 kB]\n",
            "Get:4 http://archive.ubuntu.com/ubuntu jammy/main amd64 libfl-dev amd64 2.6.4-8build2 [6,236 B]\n",
            "Fetched 1,072 kB in 1s (767 kB/s)\n",
            "debconf: unable to initialize frontend: Dialog\n",
            "debconf: (No usable dialog-like program is installed, so the dialog based frontend cannot be used. at /usr/share/perl5/Debconf/FrontEnd/Dialog.pm line 78, <> line 4.)\n",
            "debconf: falling back to frontend: Readline\n",
            "debconf: unable to initialize frontend: Readline\n",
            "debconf: (This frontend requires a controlling tty.)\n",
            "debconf: falling back to frontend: Teletype\n",
            "dpkg-preconfigure: unable to re-open stdin: \n",
            "Selecting previously unselected package flex.\n",
            "(Reading database ... 124574 files and directories currently installed.)\n",
            "Preparing to unpack .../flex_2.6.4-8build2_amd64.deb ...\n",
            "Unpacking flex (2.6.4-8build2) ...\n",
            "Selecting previously unselected package bison.\n",
            "Preparing to unpack .../bison_2%3a3.8.2+dfsg-1build1_amd64.deb ...\n",
            "Unpacking bison (2:3.8.2+dfsg-1build1) ...\n",
            "Selecting previously unselected package libfl2:amd64.\n",
            "Preparing to unpack .../libfl2_2.6.4-8build2_amd64.deb ...\n",
            "Unpacking libfl2:amd64 (2.6.4-8build2) ...\n",
            "Selecting previously unselected package libfl-dev:amd64.\n",
            "Preparing to unpack .../libfl-dev_2.6.4-8build2_amd64.deb ...\n",
            "Unpacking libfl-dev:amd64 (2.6.4-8build2) ...\n",
            "Setting up flex (2.6.4-8build2) ...\n",
            "Setting up libfl2:amd64 (2.6.4-8build2) ...\n",
            "Setting up bison (2:3.8.2+dfsg-1build1) ...\n",
            "update-alternatives: using /usr/bin/bison.yacc to provide /usr/bin/yacc (yacc) in auto mode\n",
            "Setting up libfl-dev:amd64 (2.6.4-8build2) ...\n",
            "Processing triggers for man-db (2.10.2-1) ...\n",
            "Processing triggers for libc-bin (2.35-0ubuntu3.4) ...\n",
            "/sbin/ldconfig.real: /usr/local/lib/libtbbbind.so.3 is not a symbolic link\n",
            "\n",
            "/sbin/ldconfig.real: /usr/local/lib/libtbb.so.12 is not a symbolic link\n",
            "\n",
            "/sbin/ldconfig.real: /usr/local/lib/libtcm.so.1 is not a symbolic link\n",
            "\n",
            "/sbin/ldconfig.real: /usr/local/lib/libtbbbind_2_0.so.3 is not a symbolic link\n",
            "\n",
            "/sbin/ldconfig.real: /usr/local/lib/libumf.so.0 is not a symbolic link\n",
            "\n",
            "/sbin/ldconfig.real: /usr/local/lib/libtbbbind_2_5.so.3 is not a symbolic link\n",
            "\n",
            "/sbin/ldconfig.real: /usr/local/lib/libtbbmalloc.so.2 is not a symbolic link\n",
            "\n",
            "/sbin/ldconfig.real: /usr/local/lib/libhwloc.so.15 is not a symbolic link\n",
            "\n",
            "/sbin/ldconfig.real: /usr/local/lib/libur_adapter_level_zero.so.0 is not a symbolic link\n",
            "\n",
            "/sbin/ldconfig.real: /usr/local/lib/libur_loader.so.0 is not a symbolic link\n",
            "\n",
            "/sbin/ldconfig.real: /usr/local/lib/libur_adapter_opencl.so.0 is not a symbolic link\n",
            "\n",
            "/sbin/ldconfig.real: /usr/local/lib/libtcm_debug.so.1 is not a symbolic link\n",
            "\n",
            "/sbin/ldconfig.real: /usr/local/lib/libtbbmalloc_proxy.so.2 is not a symbolic link\n",
            "\n"
          ]
        }
      ],
      "source": [
        "# Install flex (Lex) and bison (YACC)\n",
        "!sudo apt-get update\n",
        "!sudo apt-get install -y flex bison"
      ]
    },
    {
      "cell_type": "markdown",
      "source": [
        "Experiment 1: WAP to test the validity of a simple expression involving operators- +, -, *, and /."
      ],
      "metadata": {
        "id": "q8Sa5HhCtuks"
      }
    },
    {
      "cell_type": "code",
      "source": [
        "%%writefile expr_parser.l\n",
        "%{\n",
        "#include \"y.tab.h\"\n",
        "%}\n",
        "\n",
        "%%\n",
        "[ \\t\\n]      ;         /* Ignore whitespace */\n",
        "[0-9]+       { yylval = atoi(yytext); return NUMBER; }\n",
        "[+-/*()]     { return yytext[0]; } /* Return single character operators */\n",
        ".            { return yytext[0]; } /* Any other character */\n",
        "%%\n",
        "\n",
        "int yywrap() {\n",
        "    return 1;\n",
        "}"
      ],
      "metadata": {
        "colab": {
          "base_uri": "https://localhost:8080/"
        },
        "id": "uEMOddWTrQ7S",
        "outputId": "cc42383d-cb6c-4812-ea0b-5b6601db1d50"
      },
      "execution_count": 2,
      "outputs": [
        {
          "output_type": "stream",
          "name": "stdout",
          "text": [
            "Writing expr_parser.l\n"
          ]
        }
      ]
    },
    {
      "cell_type": "code",
      "source": [
        "%%writefile expr_parser.y\n",
        "%{\n",
        "#include <stdio.h>\n",
        "#include <stdlib.h>\n",
        "\n",
        "extern int yylex();\n",
        "void yyerror(const char *s) {\n",
        "    fprintf(stderr, \"Error: %s\\n\", s);\n",
        "}\n",
        "\n",
        "%}\n",
        "\n",
        "%token NUMBER\n",
        "\n",
        "%%\n",
        "expression: term\n",
        "          | expression '+' term  { printf(\"Parsed addition: %d\\n\", $$); }\n",
        "          | expression '-' term  { printf(\"Parsed subtraction: %d\\n\", $$); }\n",
        "          ;\n",
        "\n",
        "term: factor\n",
        "    | term '*' factor  { printf(\"Parsed multiplication: %d\\n\", $$); }\n",
        "    | term '/' factor  { printf(\"Parsed division: %d\\n\", $$); }\n",
        "    ;\n",
        "\n",
        "factor: NUMBER          { printf(\"Parsed number: %d\\n\", $1); }\n",
        "      | '(' expression ')' { printf(\"Parsed expression in parentheses.\\n\"); }\n",
        "      ;\n",
        "\n",
        "%%\n",
        "\n",
        "int main() {\n",
        "    printf(\"Parsing the expression...\\n\");\n",
        "    if (yyparse() == 0) {\n",
        "        printf(\"Expression is valid.\\n\");\n",
        "    } else {\n",
        "        printf(\"Invalid expression.\\n\");\n",
        "    }\n",
        "    return 0;\n",
        "}"
      ],
      "metadata": {
        "colab": {
          "base_uri": "https://localhost:8080/"
        },
        "id": "H3X_rqE9rS7S",
        "outputId": "3899d612-ded5-4e0a-9ed9-08f194770f4a"
      },
      "execution_count": 3,
      "outputs": [
        {
          "output_type": "stream",
          "name": "stdout",
          "text": [
            "Writing expr_parser.y\n"
          ]
        }
      ]
    },
    {
      "cell_type": "code",
      "source": [
        "# Create an input file with an expression\n",
        "input_expr = \"3 + 5 * (2 - 1\"\n",
        "with open('input.txt', 'w') as f:\n",
        "    f.write(input_expr)"
      ],
      "metadata": {
        "id": "yCmpSaFprl_s"
      },
      "execution_count": 9,
      "outputs": []
    },
    {
      "cell_type": "code",
      "source": [
        "# Compile the lex and yacc files\n",
        "!lex expr_parser.l"
      ],
      "metadata": {
        "id": "T1ofZxIUro9U"
      },
      "execution_count": 10,
      "outputs": []
    },
    {
      "cell_type": "code",
      "source": [
        "!yacc -d expr_parser.y"
      ],
      "metadata": {
        "id": "GZlsSGMArpw0"
      },
      "execution_count": 11,
      "outputs": []
    },
    {
      "cell_type": "code",
      "source": [
        "!gcc lex.yy.c y.tab.c -o expr_parser -ll"
      ],
      "metadata": {
        "id": "P8ky1XItrvNW"
      },
      "execution_count": 12,
      "outputs": []
    },
    {
      "cell_type": "code",
      "source": [
        "# Run the parser with the input file\n",
        "!./expr_parser < input.txt"
      ],
      "metadata": {
        "colab": {
          "base_uri": "https://localhost:8080/"
        },
        "id": "5TBF2-CvryEi",
        "outputId": "58ae7e90-6111-443d-b942-a93c2af6fcc9"
      },
      "execution_count": 13,
      "outputs": [
        {
          "output_type": "stream",
          "name": "stdout",
          "text": [
            "Parsing the expression...\n",
            "Parsed number: 3\n",
            "Parsed number: 5\n",
            "Parsed number: 2\n",
            "Parsed number: 1\n",
            "Parsed subtraction: 2\n",
            "Error: syntax error\n",
            "Invalid expression.\n"
          ]
        }
      ]
    },
    {
      "cell_type": "markdown",
      "source": [
        "Experiment 2: WAP to evaluate an arithmetic expression involving operators- +, -, *, and /."
      ],
      "metadata": {
        "id": "xdEkW44XtzIJ"
      }
    },
    {
      "cell_type": "code",
      "source": [
        "%%writefile expr_parser_eva.l\n",
        "%{\n",
        "#include \"y.tab.h\"\n",
        "%}\n",
        "\n",
        "%%\n",
        "[ \\t\\n]      ;         /* Ignore whitespace */\n",
        "[0-9]+       { yylval = atoi(yytext); return NUMBER; }\n",
        "[+-/*()]     { return yytext[0]; } /* Return single character operators */\n",
        ".            { return yytext[0]; } /* Any other character */\n",
        "%%\n",
        "\n",
        "int yywrap() {\n",
        "    return 1;\n",
        "}"
      ],
      "metadata": {
        "colab": {
          "base_uri": "https://localhost:8080/"
        },
        "id": "pJLCOrE0ueog",
        "outputId": "36ba7a7f-a35c-48f7-c46d-bf33db0ec315"
      },
      "execution_count": 14,
      "outputs": [
        {
          "output_type": "stream",
          "name": "stdout",
          "text": [
            "Writing expr_parser_eva.l\n"
          ]
        }
      ]
    },
    {
      "cell_type": "code",
      "source": [
        "%%writefile expr_parser_eva.y\n",
        "%{\n",
        "#include <stdio.h>\n",
        "#include <stdlib.h>\n",
        "\n",
        "extern int yylex();\n",
        "void yyerror(const char *s) {\n",
        "    fprintf(stderr, \"Error: %s\\n\", s);\n",
        "}\n",
        "\n",
        "%}\n",
        "\n",
        "%token NUMBER\n",
        "\n",
        "%%\n",
        "\n",
        "expression: term\n",
        "          | expression '+' term  {  $$ = $1 + $3; printf(\"evaluated addition: %d\\n\",$$); }\n",
        "          | expression '-' term  { $$ = $1 - $3; printf(\"evaluated subtraction: %d\\n\", $$);}\n",
        "          ;\n",
        "\n",
        "term: factor\n",
        "    | term '*' factor  { $$ = $1 * $3; printf(\"evaluated multiplication: %d\\n\", $$);}\n",
        "    | term '/' factor  {\n",
        "          if ($3 == 0) {\n",
        "              yyerror(\"Division by zero\");\n",
        "              exit(1);\n",
        "          }\n",
        "          $$ = $1 / $3;\n",
        "          printf(\"evaluated division: %d\\n\", $$);\n",
        "      }\n",
        "    ;\n",
        "\n",
        "factor: NUMBER          { $$ = $1; }\n",
        "      | '(' expression ')' { $$ = $2; }\n",
        "      ;\n",
        "\n",
        "%%\n",
        "\n",
        "int main() {\n",
        "    printf(\"Enter an arithmetic expression: \");\n",
        "    if (yyparse() == 0) {\n",
        "        printf(\"Expression evaluated successfully.\\n\");\n",
        "    } else {\n",
        "        printf(\"Invalid expression.\\n\");\n",
        "    }\n",
        "    return 0;\n",
        "}\n"
      ],
      "metadata": {
        "colab": {
          "base_uri": "https://localhost:8080/"
        },
        "id": "ByPcZpgJu8v4",
        "outputId": "6392ae66-474b-4e43-ee1b-a562eb2b7298"
      },
      "execution_count": 15,
      "outputs": [
        {
          "output_type": "stream",
          "name": "stdout",
          "text": [
            "Writing expr_parser_eva.y\n"
          ]
        }
      ]
    },
    {
      "cell_type": "code",
      "source": [
        "# Create an input file with an expression\n",
        "input_expr = \"3 + 5 * (2 - 1)\"\n",
        "with open('input2.txt', 'w') as f:\n",
        "    f.write(input_expr)"
      ],
      "metadata": {
        "id": "VQjgCJVOvxhm"
      },
      "execution_count": 21,
      "outputs": []
    },
    {
      "cell_type": "code",
      "source": [
        "# Compile the lex and yacc files\n",
        "!lex expr_parser_eva.l"
      ],
      "metadata": {
        "id": "mxWFd3t9v03T"
      },
      "execution_count": 22,
      "outputs": []
    },
    {
      "cell_type": "code",
      "source": [
        "!yacc -d expr_parser_eva.y"
      ],
      "metadata": {
        "id": "szkV1lGPv3E0"
      },
      "execution_count": 23,
      "outputs": []
    },
    {
      "cell_type": "code",
      "source": [
        "!gcc lex.yy.c y.tab.c -o expr_parser_eva -ll"
      ],
      "metadata": {
        "id": "Mx96cmRFv5jo"
      },
      "execution_count": 24,
      "outputs": []
    },
    {
      "cell_type": "code",
      "source": [
        "# Run the parser with the input file\n",
        "!./expr_parser_eva < input2.txt"
      ],
      "metadata": {
        "colab": {
          "base_uri": "https://localhost:8080/"
        },
        "id": "VmTHvuhYv8QI",
        "outputId": "c95d4720-b565-4e68-d88d-4c6ccfba7963"
      },
      "execution_count": 25,
      "outputs": [
        {
          "output_type": "stream",
          "name": "stdout",
          "text": [
            "Enter an arithmetic expression: evaluated subtraction: 1\n",
            "evaluated multiplication: 5\n",
            "evaluated addition: 8\n",
            "Expression evaluated successfully.\n"
          ]
        }
      ]
    }
  ]
}